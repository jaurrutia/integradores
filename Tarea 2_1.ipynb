{
 "cells": [
  {
   "cell_type": "markdown",
   "metadata": {},
   "source": [
    "# Tarea 2"
   ]
  },
  {
   "cell_type": "markdown",
   "metadata": {},
   "source": [
    "Silvia Cárdenas López"
   ]
  },
  {
   "cell_type": "markdown",
   "metadata": {},
   "source": [
    "# Problema 1"
   ]
  },
  {
   "cell_type": "markdown",
   "metadata": {},
   "source": [
    "Hacer un programa para encontrar todas las raíces de una función en un intervalo cerrado suponiendo que la función realiza oscilaciones y entre cada oscilación hay al menos una raíz"
   ]
  },
  {
   "cell_type": "markdown",
   "metadata": {},
   "source": [
    "Se vieron en clase 2 métodos para encontrar raíces: bipartición y Newton. Se observó que el método de Newton resultaba inestable cuando se aplicaba a funciones periódicas. Se  usará por lo tanto el método de bipartición para resolver el problema. Notemos que el programa debe entregar como resultado TODAS las raíces. Deberemos por tanto modificar el programa hecho en clase de tal manera que este corra las veces necesarias para obtener todas las raíces.\n",
    "\n",
    "En primer lugar consideramos la hipótesis de que entre cada oscilación hay al menos una raíz. Deberemos buscar dentro del intervalo en el que deseamos encontrar todas las raíces una serie de puntos que determinen subintervalos donde se realice una oscilación (por ejemplo, en el caso del seno en el intervalo $[0,3 \\pi]$ los subintervalos serán de la forma $[\\pi/2,3 \\pi/2]$ , $[3 \\pi/2, 5 \\pi/2]$, ...). Estos puntos corresponden a extremos locales. Programamos una función que encuentre los máximos locales de una función:\n",
    "\n"
   ]
  },
  {
   "cell_type": "code",
   "execution_count": null,
   "metadata": {
    "collapsed": true
   },
   "outputs": [],
   "source": [
    "from pylab import *\n",
    "from numpy import *\n",
    "%matplotlib inline\n",
    "from matplotlib import gridspec"
   ]
  },
  {
   "cell_type": "code",
   "execution_count": null,
   "metadata": {
    "collapsed": false
   },
   "outputs": [],
   "source": [
    "#función para encontrar extremos locales (da al final del array x_der)\n",
    "def extremo(d_funcion,x_izq,x_der,particion): \n",
    "    puntos=[]  #Arreglo donde guardaremos los máximos locales\n",
    "    x = arange(x_izq,x_der+particion,particion) \n",
    "    j=0\n",
    "    for i in range(len(x)-1):\n",
    "        if d_funcion(x[i+1])*d_funcion(x[i])<=0:\n",
    "            puntos = append(puntos,x[i]+particion/2)  \n",
    "            j+=1 \n",
    "    puntos =append(puntos, x_der)    \n",
    "    return  puntos"
   ]
  },
  {
   "cell_type": "markdown",
   "metadata": {},
   "source": [
    "Programamos ahora los métodos de bipartición y Newton tal y como lo programamos en clase"
   ]
  },
  {
   "cell_type": "code",
   "execution_count": null,
   "metadata": {
    "collapsed": false
   },
   "outputs": [],
   "source": [
    "def raiz_bip(funcion,x_izq,x_der,mostrar_raices,error=1e-8): \n",
    "        raiz = 0.5*(x_izq+x_der)\n",
    "        y_izq,y_der = funcion(x_izq),funcion(x_der)\n",
    "        n = 0\n",
    "        intervalo=[x_izq,x_der]\n",
    "        while abs(y_der)>=error:\n",
    "            n += 1\n",
    "            y_media = funcion(raiz)\n",
    "            if y_media == 0.:\n",
    "                break\n",
    "            if y_media*y_izq < 0:\n",
    "                x_der = raiz\n",
    "            else:\n",
    "                x_izq = raiz\n",
    "            raiz= 0.5*(x_izq+x_der)\n",
    "            y_izq,y_der = funcion(x_izq),funcion(x_der)\n",
    "            if n>=1000:         #Protegemos al proceso en contra de que no se encuentren raices en el intervalo\n",
    "                raiz =False\n",
    "                break        \n",
    "        if (n<100 and mostrar_raices == \"sí\"):  #Opción para elegir si mostrar las raíces o no\n",
    "            print (\"número de pasos:\",n ,\",raíz:\",raiz, \"\\n\")\n",
    "        if n>1000:\n",
    "            raiz = \"No hay raíces\"\n",
    "        return  raiz"
   ]
  },
  {
   "cell_type": "code",
   "execution_count": null,
   "metadata": {
    "collapsed": true
   },
   "outputs": [],
   "source": [
    "def mi_newton_1(func,d_func,x_ini,err=1e-8):\n",
    "    n=0\n",
    "    while abs(func(x_ini)) >= err:\n",
    "        raiz = x_ini - func(x_ini)/d_func(x_ini)\n",
    "        x_ini = raiz\n",
    "        n += 1\n",
    "    return raiz"
   ]
  },
  {
   "cell_type": "markdown",
   "metadata": {},
   "source": [
    "Ahora modificamos el programa visto en clase de tal manera que la función tome un intervalo, calcule los máximos locales, defina a partir de ellos subintervalos y aplique el método de bipartición para encontrar en cada subintervalo una raíz"
   ]
  },
  {
   "cell_type": "code",
   "execution_count": null,
   "metadata": {
    "collapsed": false
   },
   "outputs": [],
   "source": [
    "def raiz_bip_osc(funcion,d_funcion,x_izq,x_der,part_max=0.01,error=1e-8):\n",
    "    extremos = extremo(d_funcion,x_izq,x_der,part_max)\n",
    "    raiz = []\n",
    "    for i in range(len(extremos)-1):\n",
    "        raiz=append(raiz,raiz_bip(funcion,extremos[i],extremos[i+1],\"sí\"))\n",
    "    return  raiz"
   ]
  },
  {
   "cell_type": "markdown",
   "metadata": {},
   "source": [
    "Ponemos ahora en práctica la función usando la función\n",
    "$$\n",
    "y(x)=cosx+ \\frac{6}{5}sinx^2\n",
    "$$"
   ]
  },
  {
   "cell_type": "code",
   "execution_count": null,
   "metadata": {
    "collapsed": true
   },
   "outputs": [],
   "source": [
    "def funcion_prueba(x):\n",
    "    return cos(x)+(6/5)* sin(x**2)\n",
    "def d_funcion_prueba(x):\n",
    "    return -sin(x)+(12/5)*x*cos(x**2)"
   ]
  },
  {
   "cell_type": "code",
   "execution_count": null,
   "metadata": {
    "collapsed": false
   },
   "outputs": [],
   "source": [
    "raices1= raiz_bip_osc(funcion_prueba,d_funcion_prueba,0,2*pi,part_max=0.001,error=1e-8)"
   ]
  },
  {
   "cell_type": "code",
   "execution_count": null,
   "metadata": {
    "collapsed": false
   },
   "outputs": [],
   "source": [
    "grafica =subplots(figsize=(10, 6))\n",
    "x=linspace(0,2*pi)\n",
    "plot(x,funcion_prueba(x), color ='k')\n",
    "grid(True)\n",
    "for i in range(len(raices1)-2):   \n",
    "    title(' $Raíces \\quad de \\quad cos x + 6/5 sin x^2$',fontsize = 20)\n",
    "    xlabel('x',fontsize =15)\n",
    "    plot(raices1[i+1],[0],'o',label = 'x = %s'%raices1[i+1])\n",
    "legend(bbox_to_anchor=(1.05, 1.0), loc=2,ncol=2, borderaxespad=0.1)\n",
    "show()"
   ]
  },
  {
   "cell_type": "markdown",
   "metadata": {},
   "source": [
    "# Problema 2"
   ]
  },
  {
   "cell_type": "markdown",
   "metadata": {},
   "source": [
    "Consideremos la siguiente función:\n",
    "$$\n",
    "f(x,y)= 2 e^{-(x+1)^2}(e^{-(y+2)^2}+e^{-(y-2)^2})+6x(x^2+y^2)e^{-(x^2+y^2)}-1\n",
    "$$\n",
    "\n",
    "Encontraremos los puntos (x,y) tales que $f(x,y)=0$"
   ]
  },
  {
   "cell_type": "code",
   "execution_count": null,
   "metadata": {
    "collapsed": true
   },
   "outputs": [],
   "source": [
    "def funcion_2(x,y):\n",
    "    return 2*exp(-(x+1)**2)*(exp(-(y+2)**2)+exp(-(y-2)**2))+6*x*(x**2+y**2)*exp(-(x**2+y**2))-1\n",
    "def d_funcion_2(x,y):\n",
    "    return -12*x**2*(x**2 + y**2)*exp(-x**2 - y**2) + 12*x**2*exp(-x**2 - y**2) + 2*(-2*x - 2)*(exp(-(y + 2)**2) + exp(-(y - 2)**2))*exp(-(x + 1)**2) + 6*(x**2 + y**2)*exp(-x**2 - y**2)"
   ]
  },
  {
   "cell_type": "markdown",
   "metadata": {},
   "source": [
    "Grafiquemos cortes de la función dada:"
   ]
  },
  {
   "cell_type": "code",
   "execution_count": null,
   "metadata": {
    "collapsed": false
   },
   "outputs": [],
   "source": [
    "x=linspace(-6,6)\n",
    "subplots(figsize=(10, 8))\n",
    "for i in range(10):\n",
    "    \n",
    "    plot(x,funcion_2(x,i),label=\"y=%s\"%i)\n",
    "    xlim([-6,6]),ylim([-4,2])\n",
    "    axes().set_aspect('equal'),grid(True)\n",
    "    plt.title(u'Cortes en y' ,fontsize =20 )\n",
    "    xlabel('x',fontsize =15),ylabel('y',fontsize =15)\n",
    "legend(bbox_to_anchor=(1.05, 1.0), loc=2,ncol=2, borderaxespad=0.1)\n",
    "show()\n",
    "subplots(figsize=(10, 10))\n",
    "for i in range(10):\n",
    "    plot(x,funcion_2(i,x),label=\"x=%s\"%i)\n",
    "    xlim([-6,6]),ylim([-1.2,2])\n",
    "    axes().set_aspect('equal'),grid(True)\n",
    "    plt.title(u'Cortes en x', fontsize =20 )\n",
    "legend(bbox_to_anchor=(1.05, 1.0), loc=2,ncol=2, borderaxespad=0.1)\n",
    "show()\n"
   ]
  },
  {
   "cell_type": "markdown",
   "metadata": {
    "collapsed": false
   },
   "source": [
    "De los cortes podemos ver que la función se hace cero para x y y menores a 3. No se espera que haya más ceros a x (o y) mayores debido a que, observando la función vemos que no hay ningún tipo de comportamiento periódico que permita pensar que una vez que las curvas de nivel ya no cruzan el cero otra curva con mayor x (o y )vuelva a hacerlo. \n",
    "\n",
    "Para encontrar los puntos en los que la función se hace cero usaremos nuevamente el método de bipartición que programamos en clase, metiendo a nuestra función con una de las dos variables constante, para obtener una función de una sola variable. Luego de eso el programa aplicará el método de bipartición normalmente."
   ]
  },
  {
   "cell_type": "code",
   "execution_count": null,
   "metadata": {
    "collapsed": false
   },
   "outputs": [],
   "source": [
    "def new_vec(funcion,d_funcion,indice,a,x_ini,error=1e-8):\n",
    "    if indice == 1:\n",
    "        def funcion1var(x):\n",
    "            return funcion(x,a)\n",
    "        def d_funcion1var(x):\n",
    "            return d_funcion(x,a)\n",
    "    if indice == 2:\n",
    "        def funcion1var(x):\n",
    "            return funcion(a,x)\n",
    "        def d_funcion1var(x):\n",
    "            return d_funcion(a,x)\n",
    "    raiz = mi_newton_1(funcion1var,d_funcion1var,x_ini,err=1e-8)\n",
    "    return raiz"
   ]
  },
  {
   "cell_type": "code",
   "execution_count": null,
   "metadata": {
    "collapsed": false
   },
   "outputs": [],
   "source": [
    "def bip_vec(funcion,x_izq,x_der,parx,y_izq,y_der,pary,error=1e-8):\n",
    "    xx  = arange(x_izq,x_der,parx)\n",
    "    yy  = arange(y_izq,y_der,pary)\n",
    "    raiz = []\n",
    "    n = 0\n",
    "    for i in range(len(xx)):\n",
    "        def funcion1var(z):\n",
    "            return funcion(xx[i],z)\n",
    "        for j in range(len(yy)-1):\n",
    "            r = raiz_bip(funcion1var,yy[j],yy[j+1],\"no\",error=1e-8)\n",
    "            if r != 0 :\n",
    "                raiz = append(raiz, (xx[i],r ))  #El programa nos entrega una array con las coordenadas de las raíces de la función\n",
    "                n+=1\n",
    "    print (\"%s raíces encontradas\"%n)\n",
    "    return raiz, n"
   ]
  },
  {
   "cell_type": "markdown",
   "metadata": {},
   "source": [
    "Ahora usamos esta función para encontrar las raíces de las curvas de corte con y constante y con x variando en el intervalo $[-4,4]$:"
   ]
  },
  {
   "cell_type": "markdown",
   "metadata": {},
   "source": [
    "Barrido de 0.25 para cada coordenada:"
   ]
  },
  {
   "cell_type": "code",
   "execution_count": 13,
   "metadata": {
    "collapsed": false
   },
   "outputs": [
    {
     "name": "stdout",
     "output_type": "stream",
     "text": [
      "42 raíces encontradas\n"
     ]
    },
    {
     "data": {
      "image/png": "[encoded data removed]",
      "text/plain": [
       "<matplotlib.figure.Figure at 0x7fd7246de780>"
      ]
     },
     "metadata": {},
     "output_type": "display_data"
    }
   ],
   "source": [
    "raices, n= bip_vec(funcion_2,-4,4,.25,-4,4,.25,error=1e-8)\n",
    "subplots(figsize=(10, 10))\n",
    "for i in range(n):\n",
    "    plot(raices[2*i],raices[2*i+1],\"o\",color = 'r')\n",
    "    plt.title(u'Raíces de $ 2 e^{-(x+1)^2}(e^{-(y+2)^2}+e^{-(y-2)^2})+6x(x^2+y^2)e^{-(x^2+y^2)}-1$', fontsize =20 )\n",
    "    xlim([-4, 4]),ylim([-4, 4])\n",
    "    axes().set_aspect('equal'),grid(True)\n",
    "    xlabel('x',fontsize =15),ylabel('y',fontsize =15)\n",
    "show()"
   ]
  },
  {
   "cell_type": "markdown",
   "metadata": {},
   "source": [
    "Barrido de 0.01 para cada coordenada:"
   ]
  },
  {
   "cell_type": "code",
   "execution_count": 246,
   "metadata": {
    "collapsed": false
   },
   "outputs": [
    {
     "name": "stdout",
     "output_type": "stream",
     "text": [
      "98 raíces encontradas\n"
     ]
    },
    {
     "data": {
      "image/png": "[encoded data removed]",
      "text/plain": [
       "<matplotlib.figure.Figure at 0x16a9fc21be0>"
      ]
     },
     "metadata": {},
     "output_type": "display_data"
    }
   ],
   "source": [
    "raices, n= bip_vec(funcion_2,-4,4,.1,-4,4,.1,error=1e-8)\n",
    "subplots(figsize=(10, 10))\n",
    "for i in range(n):\n",
    "    plot(raices[2*i],raices[2*i+1],\"o\",color = 'r')\n",
    "    plt.title(u'Raíces de $ 2 e^{-(x+1)^2}(e^{-(y+2)^2}+e^{-(y-2)^2})+6x(x^2+y^2)e^{-(x^2+y^2)}-1$', fontsize =20 )\n",
    "    xlim([-4, 4]),ylim([-4, 4])\n",
    "    axes().set_aspect('equal'),grid(True)\n",
    "    xlabel('x',fontsize =15),ylabel('y',fontsize =15)\n",
    "show()"
   ]
  },
  {
   "cell_type": "markdown",
   "metadata": {},
   "source": [
    "Barrido de 0.05 para cada coordenada:"
   ]
  },
  {
   "cell_type": "code",
   "execution_count": 248,
   "metadata": {
    "collapsed": false
   },
   "outputs": [
    {
     "name": "stdout",
     "output_type": "stream",
     "text": [
      "196 raíces encontradas\n"
     ]
    },
    {
     "data": {
      "image/png": "[encoded data removed]",
      "text/plain": [
       "<matplotlib.figure.Figure at 0x16aa0e8cc18>"
      ]
     },
     "metadata": {},
     "output_type": "display_data"
    }
   ],
   "source": [
    "raices, n= bip_vec(funcion_2,-4,4,.05,-4,4,.05,error=1e-8)\n",
    "subplots(figsize=(10, 10))\n",
    "for i in range(n):\n",
    "    plot(raices[2*i],raices[2*i+1],\"o\",color = 'r')\n",
    "    plt.title(u'Raíces de $ 2 e^{-(x+1)^2}(e^{-(y+2)^2}+e^{-(y-2)^2})+6x(x^2+y^2)e^{-(x^2+y^2)}-1$', fontsize =20 )\n",
    "    xlim([-4, 4]),ylim([-4, 4])\n",
    "    axes().set_aspect('equal'),grid(True)\n",
    "    xlabel('x',fontsize =15),ylabel('y',fontsize =15)\n",
    "show()"
   ]
  },
  {
   "cell_type": "markdown",
   "metadata": {},
   "source": [
    "Barrido de 0.01 en la coordenada y (donde se ve que hay más huecos)"
   ]
  },
  {
   "cell_type": "code",
   "execution_count": null,
   "metadata": {
    "collapsed": false
   },
   "outputs": [],
   "source": [
    "raices, n= bip_vec(funcion_2,-4,4,.01,-4,4,.01,error=1e-8)\n",
    "subplots(figsize=(10, 10))\n",
    "for i in range(n):\n",
    "    plot(raices[2*i],raices[2*i+1],\"o\",color = 'r')\n",
    "    plt.title(u'Raíces de $ 2 e^{-(x+1)^2}(e^{-(y+2)^2}+e^{-(y-2)^2})+6x(x^2+y^2)e^{-(x^2+y^2)}-1$', fontsize =20 )\n",
    "    xlim([-4, 4]),ylim([-4, 4])\n",
    "    axes().set_aspect('equal'),grid(True)\n",
    "    xlabel('x',fontsize =15),ylabel('y',fontsize =15)\n",
    "show()"
   ]
  },
  {
   "cell_type": "markdown",
   "metadata": {},
   "source": [
    "# Problema 3"
   ]
  },
  {
   "cell_type": "markdown",
   "metadata": {},
   "source": [
    "Se tiene una pelota sobre un plano inclinado $\\alpha = 15° , 30°, 45°$\n",
    "\n",
    "a) Dibujar la trayectoria si la pelota es lanzada  a una velocidad $v_{0x}, v_{0y}>0$ considerando que hay fricción proporcional a la velocidad"
   ]
  },
  {
   "cell_type": "markdown",
   "metadata": {},
   "source": [
    "Programamos el método de Runge-Kutta de 4to orden que usaremos a lo largo del problema"
   ]
  },
  {
   "cell_type": "code",
   "execution_count": null,
   "metadata": {
    "collapsed": true
   },
   "outputs": [],
   "source": [
    "def rk4(ec,p_ini,x,args=0,h=0.01):\n",
    "    if (x[1]-x[0]) <= 5.*h:\n",
    "        h = (x[1]-x[0])/10\n",
    "    tiempos = arange(x[0],x[1]+h,h)\n",
    "    sol = zeros((len(tiempos),len(p_ini)))\n",
    "    sol[0,:] = p_ini\n",
    "    if args==0:\n",
    "        for i in xrange(len(tiempos)-1):\n",
    "            k1 = ec(sol[i,:],tiempos[i])\n",
    "            k2 = ec(sol[i,:]+0.5*h*k1,tiempos[i]+0.5*h)\n",
    "            k3 = ec(sol[i,:]+0.5*h*k2,tiempos[i]+0.5*h)\n",
    "            k4 = ec(sol[i,:]+h*k3,tiempos[i]+h)\n",
    "            sol[i+1,:]=sol[i,:]+(h/6.)*(k1+2*k2+2*k3+k4)\n",
    "    else:\n",
    "        for i in xrange(len(tiempos)-1):\n",
    "            k1 = ec(sol[i,:],tiempos[i],args)\n",
    "            k2 = ec(sol[i,:]+0.5*h*k1,tiempos[i]+0.5*h,args)\n",
    "            k3 = ec(sol[i,:]+0.5*h*k2,tiempos[i]+0.5*h,args)\n",
    "            k4 = ec(sol[i,:]+h*k3,tiempos[i]+h,args)\n",
    "            sol[i+1,:]=sol[i,:]+(h/6.)*(k1+2*k2+2*k3+k4)\n",
    "    return tiempos,sol"
   ]
  },
  {
   "cell_type": "code",
   "execution_count": null,
   "metadata": {
    "collapsed": true
   },
   "outputs": [],
   "source": []
  },
  {
   "cell_type": "markdown",
   "metadata": {},
   "source": [
    "Programamos ahora la ecuación de movimiento de la pelota: Giramos nuestro sistema de referencia de manera que el eje x coincida con el plano. Así, tendremos componentes de la gravedad a lo largo de x y y."
   ]
  },
  {
   "cell_type": "code",
   "execution_count": null,
   "metadata": {
    "collapsed": true
   },
   "outputs": [],
   "source": [
    "def e_mov(r_v,t,fric=0,g=9.8,m=1,a): #r_v contiene a las coordenadas x y y y a las velocidades, a es el ángulo de inclinación del plano\n",
    "    u = sqrt(r_v[2]**2 + r_v[3]**2)\n",
    "    dx = r_v[2]\n",
    "    dy = r_v[3]\n",
    "    if fric == 0:\n",
    "        dvx,dvy = (g/m)*sin(a),(g/m)*cos(a)\n",
    "    else:\n",
    "        dvx = - fric([r_v[2],r_v[3]])[0]\n",
    "        dvy = -(g/m) - fric([r_v[2],r_v[3]])[1]\n",
    "        #print \"Use un modelo de friccion\"\n",
    "    return array([dx,dy,dvx,dvy])"
   ]
  },
  {
   "cell_type": "markdown",
   "metadata": {},
   "source": [
    "Modelos de fricción "
   ]
  },
  {
   "cell_type": "code",
   "execution_count": null,
   "metadata": {
    "collapsed": true
   },
   "outputs": [],
   "source": [
    "def fric_v(v,gamma=0.1):\n",
    "    f_x = gamma*v[0]\n",
    "    f_y = gamma*v[1]\n",
    "    return array([f_x,f_y]) \n",
    "\n",
    "def fric_v2(v,gamma=0.1):\n",
    "    norm_v = sqrt(v[0]**2 + v[1]**2)\n",
    "    f_x = gamma*norm_v*v[0]\n",
    "    f_y = gamma*norm_v*v[1]\n",
    "    return array([f_x,f_y]) "
   ]
  },
  {
   "cell_type": "code",
   "execution_count": null,
   "metadata": {
    "collapsed": true
   },
   "outputs": [],
   "source": [
    "def rebote(r_v_i,mi_dt):\n",
    "    dt_busqueda = mi_dt/2\n",
    "    y_izq = r_v_i\n",
    "    t,sol = rk4(e_mov,r_v_i,[0,dt_busqueda],fric_v)\n",
    "    y_med = sol[-1,:]\n",
    "    while abs(y_izq[1]) > 1e-5:\n",
    "        if y_izq[1]*y_med[1] < 0:\n",
    "            reinicio = y_izq\n",
    "        else:\n",
    "            reinicio = y_med\n",
    "        dt_busqueda = dt_busqueda/2\n",
    "        t,sol = rk4(e_mov,reinicio,[0,dt_busqueda],fric_v)\n",
    "        y_izq = reinicio\n",
    "        y_med = sol[-1,:]\n",
    "    y_izq = array([y_izq[0],y_izq[1],y_izq[2],-y_izq[3]])    \n",
    "    return y_izq"
   ]
  },
  {
   "cell_type": "code",
   "execution_count": null,
   "metadata": {
    "collapsed": true
   },
   "outputs": [],
   "source": [
    "\n",
    "inicio = [0,0,8,5]\n",
    "N = 50\n",
    "trayectoria = zeros((N,len(inicio)))\n",
    "mi_dt = .1\n",
    "trayectoria[0,:] = array(inicio)\n",
    "for i in range(N-1):\n",
    "    t,sol_dt = rk4(e_mov,trayectoria[i,:],[0,mi_dt],fric_v)\n",
    "    if sol_dt[-1,:][1] < 0:\n",
    "        punto = rebote(trayectoria[i,:],mi_dt)\n",
    "        trayectoria[i+1,:] = punto\n",
    "    else:\n",
    "        trayectoria[i+1,:] = sol_dt[-1,:]\n",
    "\n",
    "plot(trayectoria[:,0],trayectoria[:,1],'o-')\n",
    "show()"
   ]
  },
  {
   "cell_type": "code",
   "execution_count": null,
   "metadata": {
    "collapsed": true
   },
   "outputs": [],
   "source": []
  }
 ],
 "metadata": {
  "anaconda-cloud": {},
  "kernelspec": {
   "display_name": "Python [Root]",
   "language": "python",
   "name": "Python [Root]"
  },
  "language_info": {
   "codemirror_mode": {
    "name": "ipython",
    "version": 3
   },
   "file_extension": ".py",
   "mimetype": "text/x-python",
   "name": "python",
   "nbconvert_exporter": "python",
   "pygments_lexer": "ipython3",
   "version": "3.5.2"
  }
 },
 "nbformat": 4,
 "nbformat_minor": 0
}
