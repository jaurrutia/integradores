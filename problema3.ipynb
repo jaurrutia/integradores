{
 "cells": [
  {
   "cell_type": "code",
   "execution_count": 8,
   "metadata": {
    "collapsed": true
   },
   "outputs": [],
   "source": [
    "from pylab import *\n",
    "from numpy import *\n",
    "%matplotlib inline\n",
    "from matplotlib import gridspec"
   ]
  },
  {
   "cell_type": "code",
   "execution_count": 52,
   "metadata": {
    "collapsed": true
   },
   "outputs": [],
   "source": [
    "def rk4(ec,p_ini,x,args1=0,args2=0,h=0.01):\n",
    "    if (x[1]-x[0]) <= 5.*h:\n",
    "        h = (x[1]-x[0])/10\n",
    "    tiempos = arange(x[0],x[1]+h,h)\n",
    "    sol = zeros((len(tiempos),len(p_ini)))\n",
    "    sol[0,:] = p_ini\n",
    "    if args1==0:\n",
    "        if args2==0:\n",
    "            for i in range(len(tiempos)-1):\n",
    "                k1 = ec(sol[i,:],tiempos[i])\n",
    "                k2 = ec(sol[i,:]+0.5*h*k1,tiempos[i]+0.5*h)\n",
    "                k3 = ec(sol[i,:]+0.5*h*k2,tiempos[i]+0.5*h)\n",
    "                k4 = ec(sol[i,:]+h*k3,tiempos[i]+h)\n",
    "                sol[i+1,:]=sol[i,:]+(h/6.)*(k1+2*k2+2*k3+k4)\n",
    "        else:\n",
    "            for i in range(len(tiempos)-1):\n",
    "                k1 = ec(sol[i,:],tiempos[i])\n",
    "                k2 = ec(sol[i,:]+0.5*h*k1,tiempos[i]+0.5*h,0,args2)\n",
    "                k3 = ec(sol[i,:]+0.5*h*k2,tiempos[i]+0.5*h,0,args2)\n",
    "                k4 = ec(sol[i,:]+h*k3,tiempos[i]+h,0,args2)\n",
    "                sol[i+1,:]=sol[i,:]+(h/6.)*(k1+2*k2+2*k3+k4)\n",
    "    else:\n",
    "        if args2==0:\n",
    "            for i in range(len(tiempos)-1):\n",
    "                k1 = ec(sol[i,:],tiempos[i],args1)\n",
    "                k2 = ec(sol[i,:]+0.5*h*k1,tiempos[i]+0.5*h,args1)\n",
    "                k3 = ec(sol[i,:]+0.5*h*k2,tiempos[i]+0.5*h,args1)\n",
    "                k4 = ec(sol[i,:]+h*k3,tiempos[i]+h,args1)\n",
    "                sol[i+1,:]=sol[i,:]+(h/6.)*(k1+2*k2+2*k3+k4)\n",
    "        else:\n",
    "            for i in range(len(tiempos)-1):\n",
    "                k1 = ec(sol[i,:],tiempos[i],args1,args2)\n",
    "                k2 = ec(sol[i,:]+0.5*h*k1,tiempos[i]+0.5*h,args1,args2)\n",
    "                k3 = ec(sol[i,:]+0.5*h*k2,tiempos[i]+0.5*h,args1,args2)\n",
    "                k4 = ec(sol[i,:]+h*k3,tiempos[i]+h,args1,args2)\n",
    "                sol[i+1,:]=sol[i,:]+(h/6.)*(k1+2*k2+2*k3+k4) \n",
    "    return tiempos,sol"
   ]
  },
  {
   "cell_type": "code",
   "execution_count": 60,
   "metadata": {
    "collapsed": false
   },
   "outputs": [],
   "source": [
    "def e_mov(r_v,t,fric=0,a=0,g=9.8,m=1): #r_v contiene a las coordenadas x y y y a las velocidades, a es el ángulo de inclinación del plano\n",
    "    u = sqrt(r_v[2]**2 + r_v[3]**2)\n",
    "    dx = r_v[2]\n",
    "    dy = r_v[3]\n",
    "    if fric == 0:\n",
    "        if a==0:\n",
    "            dvx,dvy = 0,-(g/m)\n",
    "        else:\n",
    "            dvx,dvy = (g/m)*sin(a),-(g/m)*cos(a)\n",
    "    else:\n",
    "        if a==0:\n",
    "            dvx = - fric([r_v[2],r_v[3]])[0]\n",
    "            dvy = -(g/m) - fric([r_v[2],r_v[3]])[1]\n",
    "        else:\n",
    "            dvx = - fric([r_v[2]*cos(a)+r_v[3]*sin(a),-r_v[2]*sin(a)+r_v[3]*cos(a)])[0]\n",
    "            dvy = -(g/m) - fric([r_v[2]*cos(a)+r_v[3]*sin(a),-r_v[2]*sin(a)+r_v[3]*cos(a)])[1]\n",
    "    return array([dx,dy,dvx,dvy])"
   ]
  },
  {
   "cell_type": "code",
   "execution_count": 142,
   "metadata": {
    "collapsed": true
   },
   "outputs": [],
   "source": [
    "def rebote(r_v_i,mi_dt):\n",
    "    dt_busqueda = mi_dt/2.\n",
    "    y_izq = r_v_i\n",
    "    t,sol = rk4(e_mov,r_v_i,[0,dt_busqueda],fric_v)\n",
    "    y_med = sol[-1,:]\n",
    "    while abs(y_izq[1]) > 1e-5:\n",
    "        if y_izq[1]*y_med[1] < 0:\n",
    "            reinicio = y_izq\n",
    "        else:\n",
    "            reinicio = y_med\n",
    "        dt_busqueda = dt_busqueda/2\n",
    "        t,sol = rk4(e_mov,reinicio,[0,dt_busqueda],fric_v)\n",
    "        y_izq = reinicio\n",
    "        y_med = sol[-1,:]\n",
    "    y_izq = array([y_izq[0],y_izq[1],y_izq[2],-y_izq[3]])    \n",
    "    return y_izq"
   ]
  },
  {
   "cell_type": "code",
   "execution_count": 138,
   "metadata": {
    "collapsed": true
   },
   "outputs": [],
   "source": [
    "def fric_v(v,gamma=0.1):\n",
    "    f_x = gamma*v[0]\n",
    "    f_y = gamma*v[1]\n",
    "    return array([f_x,f_y]) \n",
    "\n",
    "def fric_v2(v,gamma=0.1):\n",
    "    norm_v = sqrt(v[0]**2 + v[1]**2)\n",
    "    f_x = gamma*norm_v*v[0]\n",
    "    f_y = gamma*norm_v*v[1]\n",
    "    return array([f_x,f_y]) "
   ]
  },
  {
   "cell_type": "code",
   "execution_count": 163,
   "metadata": {
    "collapsed": false
   },
   "outputs": [
    {
     "data": {
      "image/png": "[encoded data removed]",
      "text/plain": [
       "<matplotlib.figure.Figure at 0x2901be18e80>"
      ]
     },
     "metadata": {},
     "output_type": "display_data"
    }
   ],
   "source": [
    "inicio = [0,0,5,8]\n",
    "a= pi/3\n",
    "N = 100\n",
    "trayectoria = zeros((N,len(inicio)))\n",
    "mi_dt = .1\n",
    "trayectoria[0,:] = array(inicio)\n",
    "for i in range(N-1):\n",
    "    t,sol_dt = rk4(e_mov,trayectoria[i,:],[0,mi_dt],fric_v,a,h=0.01)\n",
    "    if sol_dt[-1,:][1] < 0:\n",
    "        punto = rebote(trayectoria[i,:],mi_dt)\n",
    "        trayectoria[i+1,:] = punto\n",
    "    else:\n",
    "        trayectoria[i+1,:] = sol_dt[-1,:]\n",
    "\n",
    "plot(trayectoria[:,0],trayectoria[:,1],'o-')\n",
    "show()\n",
    "\n"
   ]
  },
  {
   "cell_type": "markdown",
   "metadata": {},
   "source": [
    "Tenemos ya la solución en el marco rotado; ahora sólo debemos de rotarla al marco original para poder graficarla. Esto se hace haciendo el inverso de la transformación de antes:\n",
    "$$\n",
    "x_0= xcos \\alpha -ysen \\alpha\n",
    "$$\n",
    "$$\n",
    "y_0= ycos \\alpha +xsen \\alpha\n",
    "$$"
   ]
  },
  {
   "cell_type": "code",
   "execution_count": 164,
   "metadata": {
    "collapsed": false
   },
   "outputs": [],
   "source": [
    "trayectoriarot= trayectoria\n",
    "for i in range(len(trayectoria[:,0])):\n",
    "    trayectoria[:,0] = trayectoriarot[:,0]*cos(a)-trayectoriarot[:,1]*sin(a)\n",
    "    trayectoria[:,1] = trayectoriarot[:,1]*cos(a)+trayectoriarot[:,0]*sin(a)\n",
    "    trayectoria[:,2] = trayectoriarot[:,2]*cos(a)-trayectoriarot[:,3]*sin(a)\n",
    "    trayectoria[:,3] = trayectoriarot[:,3]*cos(a)+trayectoriarot[:,2]*sin(a)\n"
   ]
  },
  {
   "cell_type": "code",
   "execution_count": 169,
   "metadata": {
    "collapsed": false
   },
   "outputs": [
    {
     "data": {
      "image/png": "[encoded data removed]",
      "text/plain": [
       "<matplotlib.figure.Figure at 0x2901c715e80>"
      ]
     },
     "metadata": {},
     "output_type": "display_data"
    }
   ],
   "source": [
    "x =linspace(0,1e-30)\n",
    "plot(trayectoria[:,0],trayectoria[:,1],'o-')\n",
    "plot(x,-x/sqrt(3))\n",
    "show()"
   ]
  },
  {
   "cell_type": "code",
   "execution_count": null,
   "metadata": {
    "collapsed": true
   },
   "outputs": [],
   "source": []
  }
 ],
 "metadata": {
  "kernelspec": {
   "display_name": "Python [Root]",
   "language": "python",
   "name": "Python [Root]"
  },
  "language_info": {
   "codemirror_mode": {
    "name": "ipython",
    "version": 3
   },
   "file_extension": ".py",
   "mimetype": "text/x-python",
   "name": "python",
   "nbconvert_exporter": "python",
   "pygments_lexer": "ipython3",
   "version": "3.5.2"
  }
 },
 "nbformat": 4,
 "nbformat_minor": 0
}
